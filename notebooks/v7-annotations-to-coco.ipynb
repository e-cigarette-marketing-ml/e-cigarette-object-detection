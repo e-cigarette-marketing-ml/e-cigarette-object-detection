{
 "cells": [
  {
   "cell_type": "markdown",
   "id": "ad055dc5-70f8-4f5f-8d3b-0937786489e1",
   "metadata": {},
   "source": [
    "# V7 Labs to COCO\n",
    "\n",
    "See\n",
    "\n",
    "* https://github.com/v7labs/darwin-py\n",
    "* https://docs.v7labs.com/docs/loading-a-dataset-in-python\n",
    "* https://github.com/v7labs/darwin-py/blob/master/darwin/torch/dataset.py"
   ]
  },
  {
   "cell_type": "code",
   "execution_count": 2,
   "id": "ecabe55b-d20d-4cd1-a462-58e7fc1e111a",
   "metadata": {
    "tags": []
   },
   "outputs": [
    {
     "name": "stdout",
     "output_type": "stream",
     "text": [
      "Project directory: /home/ck37/projects/ecig-vaping\n"
     ]
    }
   ],
   "source": [
    "from pathlib import Path\n",
    "import pyprojroot\n",
    "dir_proj = pyprojroot.here()\n",
    "print(\"Project directory:\", dir_proj)"
   ]
  },
  {
   "cell_type": "code",
   "execution_count": 3,
   "id": "10eeb171-bfd5-48c8-9dfd-2ba6e7526bdc",
   "metadata": {
    "tags": []
   },
   "outputs": [
    {
     "name": "stdout",
     "output_type": "stream",
     "text": [
      "┏━━━━━━━━━━━━━━━━━━━━━━━━━━━━━━━━━━━━━━━━━━━━━━━━┳━━━━━━━━━━━━┳━━━━━━━━━━━━━━━━┓\n",
      "┃\u001b[1;36m \u001b[0m\u001b[1;36mName                                          \u001b[0m\u001b[1;36m \u001b[0m┃\u001b[1;36m \u001b[0m\u001b[1;36mItem Count\u001b[0m\u001b[1;36m \u001b[0m┃\u001b[1;36m \u001b[0m\u001b[1;36mComplete Items\u001b[0m\u001b[1;36m \u001b[0m┃\n",
      "┡━━━━━━━━━━━━━━━━━━━━━━━━━━━━━━━━━━━━━━━━━━━━━━━━╇━━━━━━━━━━━━╇━━━━━━━━━━━━━━━━┩\n",
      "│ uscharvardecig/ecig-instagram-objection-detec… │       4645 │          24.1% │\n",
      "└────────────────────────────────────────────────┴────────────┴────────────────┘\n"
     ]
    }
   ],
   "source": [
    "# Review all datasets\n",
    "!darwin dataset remote"
   ]
  },
  {
   "cell_type": "code",
   "execution_count": 5,
   "id": "c6882635-2dd2-40fc-ad35-5ca68da8f735",
   "metadata": {
    "tags": []
   },
   "outputs": [
    {
     "name": "stdout",
     "output_type": "stream",
     "text": [
      "Dataset id: uscharvardecig/ecig-instagram-objection-detection:2023-03-25-4632\n"
     ]
    }
   ],
   "source": [
    "#team_name = \"annotatevape\" # Old account, pre March 2023\n",
    "team_name = \"uscharvardecig\" # Academic account, starting March 2023\n",
    "\n",
    "#dataset_name = \"training-data\" # Old dataset name, pre March 2023\n",
    "dataset_name = \"ecig-instagram-objection-detection\" # New dataset name, starting March 2023\n",
    "\n",
    "#dataset_id = \"annotatevape/training-data\"\n",
    "#dataset_id = \"annotatevape/training-data:top-5-classes-v2\"\n",
    "#dataset_id= \"annotatevape/training-data:top-5-classes-v4\" # Dec. 12, 2021\n",
    "#dataset_id= \"annotatevape/training-data:many-in-review\" # Jan. 10, 2021\n",
    "#dataset_id= \"annotatevape/training-data:sample1-complete-570\" # Jan. 13, 2021\n",
    "#dataset_version = \"reviewed-777\" # Jan. 17, 2022\n",
    "#dataset_version = \"1030-complete-ck-tweaked\" # Feb. 7, 2022\n",
    "#dataset_version = \"complete-in-review-1434-may-2nd\" # May 2, 2022\n",
    "#dataset_version = \"complete-or-in-review-2313\" # May 16, 2022\n",
    "#dataset_version = \"complete-or-in-review-2493\" # May 23, 2022\n",
    "#dataset_version = \"complete-in-review-2519\" # Aug. 4, 2022\n",
    "#dataset_version = \"all-data-3258-items\" # Oct. 24, 2022\n",
    "#dataset_version = \"all-data-3287-items\" # Oct. 24, 2022\n",
    "\n",
    "dataset_version = \"2023-03-25-4632\"\n",
    "\n",
    "dataset_id = team_name + \"/\" + dataset_name + \":\" + dataset_version\n",
    "print(\"Dataset id:\", dataset_id)"
   ]
  },
  {
   "cell_type": "code",
   "execution_count": 6,
   "id": "8b3735b6-0a80-420c-8d53-5301936344ae",
   "metadata": {
    "tags": []
   },
   "outputs": [
    {
     "name": "stdout",
     "output_type": "stream",
     "text": [
      "┏━━━━━━━━━━━━━━━━━━━━━━━━━━━━━━━━━━━━━━━━━┳━━━━━━━━━━━━━┳━━━━━━━━━━━┳━━━━━━━━━━┓\n",
      "┃\u001b[1;36m \u001b[0m\u001b[1;36mName                                   \u001b[0m\u001b[1;36m \u001b[0m┃\u001b[1;36m \u001b[0m\u001b[1;36mImage Count\u001b[0m\u001b[1;36m \u001b[0m┃\u001b[1;36m \u001b[0m\u001b[1;36mSync Date\u001b[0m\u001b[1;36m \u001b[0m┃\u001b[1;36m \u001b[0m\u001b[1;36m    Size\u001b[0m\u001b[1;36m \u001b[0m┃\n",
      "┡━━━━━━━━━━━━━━━━━━━━━━━━━━━━━━━━━━━━━━━━━╇━━━━━━━━━━━━━╇━━━━━━━━━━━╇━━━━━━━━━━┩\n",
      "│ uscharvardecig/ecig-instagram-objectio… │        4348 │     today │ 656.5 MB │\n",
      "└─────────────────────────────────────────┴─────────────┴───────────┴──────────┘\n"
     ]
    }
   ],
   "source": [
    "# Review locally downloaded datasets\n",
    "!darwin dataset local"
   ]
  },
  {
   "cell_type": "code",
   "execution_count": 7,
   "id": "2b3ad345-249a-45ab-abd0-ea1d9711ed6d",
   "metadata": {
    "tags": []
   },
   "outputs": [
    {
     "name": "stdout",
     "output_type": "stream",
     "text": [
      "\u001b[2K\u001b[90m━━━━━━━━━━━━━━━━━━━━━━━━━━━━━━━━━━━━━━━━━━━━━━━━━━━━━━━━━━━━━━━━━━━━━━━━━━━━━━━━\u001b[0m0m\n",
      "\u001b[?25hDataset uscharvardecig/ecig-instagram-objection-detection:2023-03-25-4632 downloaded at /home/ck37/.darwin/datasets/uscharvardecig/ecig-instagram-objection-detection. \n"
     ]
    }
   ],
   "source": [
    "# Pull necessary dataset\n",
    "!darwin dataset pull {dataset_id}"
   ]
  },
  {
   "cell_type": "code",
   "execution_count": 9,
   "id": "ee628297-b925-435a-b6a8-9e1692939e47",
   "metadata": {
    "tags": []
   },
   "outputs": [
    {
     "name": "stdout",
     "output_type": "stream",
     "text": [
      "Partition lists saved at /home/ck37/.darwin/datasets/uscharvardecig/ecig-instagram-objection-detection/releases/2023-03-25-4632/lists/3045_434_869_s1\n"
     ]
    }
   ],
   "source": [
    "# Pull dataset and divide into training, val, and test\n",
    "# --stratified-types bounding_box\n",
    "!darwin dataset split {dataset_id} --seed 1 --val-percentage .10 --test-percentage .20 "
   ]
  },
  {
   "cell_type": "code",
   "execution_count": 11,
   "id": "da9489a2-9230-4f47-8e04-e97f75243d31",
   "metadata": {
    "tags": []
   },
   "outputs": [
    {
     "name": "stdout",
     "output_type": "stream",
     "text": [
      "random_test.txt   stratified_bounding_box_test.txt   stratified_tag_test.txt\n",
      "random_train.txt  stratified_bounding_box_train.txt  stratified_tag_train.txt\n",
      "random_val.txt\t  stratified_bounding_box_val.txt    stratified_tag_val.txt\n"
     ]
    }
   ],
   "source": [
    "#!ls /home/ck37/.darwin/datasets/annotatevape/training-data/releases/top-5-classes-v2/lists/split_v0_t0\n",
    "#!ls /home/ck37/.darwin/datasets/annotatevape/training-data/releases/sample1-complete-570/lists/default\n",
    "!ls /home/ck37/.darwin/datasets/{team_name}/{dataset_name}/releases/{dataset_version}/lists/default"
   ]
  },
  {
   "cell_type": "code",
   "execution_count": 12,
   "id": "de455527-0e07-4549-a377-eac6b2f080b1",
   "metadata": {
    "tags": []
   },
   "outputs": [
    {
     "name": "stderr",
     "output_type": "stream",
     "text": [
      "/home/ck37/.conda/envs/mmdet/lib/python3.9/site-packages/tqdm/auto.py:21: TqdmWarning: IProgress not found. Please update jupyter and ipywidgets. See https://ipywidgets.readthedocs.io/en/stable/user_install.html\n",
      "  from .autonotebook import tqdm as notebook_tqdm\n"
     ]
    },
    {
     "ename": "ValueError",
     "evalue": "Annotation (/home/ck37/.darwin/datasets/uscharvardecig/ecig-instagram-objection-detection/releases/2023-03-25-4632/annotations/2021-02-17 21.47.29 2511607846950066850_186439710.json) does not have a corresponding image",
     "output_type": "error",
     "traceback": [
      "\u001b[0;31m---------------------------------------------------------------------------\u001b[0m",
      "\u001b[0;31mValueError\u001b[0m                                Traceback (most recent call last)",
      "Cell \u001b[0;32mIn[12], line 2\u001b[0m\n\u001b[1;32m      1\u001b[0m \u001b[38;5;28;01mfrom\u001b[39;00m \u001b[38;5;21;01mdarwin\u001b[39;00m\u001b[38;5;21;01m.\u001b[39;00m\u001b[38;5;21;01mtorch\u001b[39;00m \u001b[38;5;28;01mimport\u001b[39;00m get_dataset\n\u001b[0;32m----> 2\u001b[0m dataset \u001b[38;5;241m=\u001b[39m \u001b[43mget_dataset\u001b[49m\u001b[43m(\u001b[49m\u001b[43mdataset_id\u001b[49m\u001b[43m,\u001b[49m\u001b[43m \u001b[49m\u001b[43mdataset_type\u001b[49m\u001b[38;5;241;43m=\u001b[39;49m\u001b[38;5;124;43m\"\u001b[39;49m\u001b[38;5;124;43mobject-detection\u001b[39;49m\u001b[38;5;124;43m\"\u001b[39;49m\u001b[43m)\u001b[49m\n\u001b[1;32m      3\u001b[0m \u001b[38;5;28mprint\u001b[39m(dataset)\n\u001b[1;32m      5\u001b[0m \u001b[38;5;28mprint\u001b[39m(dataset\u001b[38;5;241m.\u001b[39mclasses)\n",
      "File \u001b[0;32m~/.conda/envs/mmdet/lib/python3.9/site-packages/darwin/torch/dataset.py:68\u001b[0m, in \u001b[0;36mget_dataset\u001b[0;34m(dataset_slug, dataset_type, partition, split, split_type, transform, client)\u001b[0m\n\u001b[1;32m     66\u001b[0m \u001b[38;5;28;01mfor\u001b[39;00m p \u001b[38;5;129;01min\u001b[39;00m client\u001b[38;5;241m.\u001b[39mlist_local_datasets(team_slug\u001b[38;5;241m=\u001b[39midentifier\u001b[38;5;241m.\u001b[39mteam_slug):\n\u001b[1;32m     67\u001b[0m     \u001b[38;5;28;01mif\u001b[39;00m identifier\u001b[38;5;241m.\u001b[39mdataset_slug \u001b[38;5;241m==\u001b[39m p\u001b[38;5;241m.\u001b[39mname:\n\u001b[0;32m---> 68\u001b[0m         \u001b[38;5;28;01mreturn\u001b[39;00m \u001b[43mdataset_function\u001b[49m\u001b[43m(\u001b[49m\n\u001b[1;32m     69\u001b[0m \u001b[43m            \u001b[49m\u001b[43mdataset_path\u001b[49m\u001b[38;5;241;43m=\u001b[39;49m\u001b[43mp\u001b[49m\u001b[43m,\u001b[49m\n\u001b[1;32m     70\u001b[0m \u001b[43m            \u001b[49m\u001b[43mpartition\u001b[49m\u001b[38;5;241;43m=\u001b[39;49m\u001b[43mpartition\u001b[49m\u001b[43m,\u001b[49m\n\u001b[1;32m     71\u001b[0m \u001b[43m            \u001b[49m\u001b[43msplit\u001b[49m\u001b[38;5;241;43m=\u001b[39;49m\u001b[43msplit\u001b[49m\u001b[43m,\u001b[49m\n\u001b[1;32m     72\u001b[0m \u001b[43m            \u001b[49m\u001b[43msplit_type\u001b[49m\u001b[38;5;241;43m=\u001b[39;49m\u001b[43msplit_type\u001b[49m\u001b[43m,\u001b[49m\n\u001b[1;32m     73\u001b[0m \u001b[43m            \u001b[49m\u001b[43mrelease_name\u001b[49m\u001b[38;5;241;43m=\u001b[39;49m\u001b[43midentifier\u001b[49m\u001b[38;5;241;43m.\u001b[39;49m\u001b[43mversion\u001b[49m\u001b[43m,\u001b[49m\n\u001b[1;32m     74\u001b[0m \u001b[43m            \u001b[49m\u001b[43mtransform\u001b[49m\u001b[38;5;241;43m=\u001b[39;49m\u001b[43mtransform\u001b[49m\u001b[43m,\u001b[49m\n\u001b[1;32m     75\u001b[0m \u001b[43m        \u001b[49m\u001b[43m)\u001b[49m\n\u001b[1;32m     77\u001b[0m _error(\n\u001b[1;32m     78\u001b[0m     \u001b[38;5;124mf\u001b[39m\u001b[38;5;124m\"\u001b[39m\u001b[38;5;124mDataset \u001b[39m\u001b[38;5;124m'\u001b[39m\u001b[38;5;132;01m{\u001b[39;00midentifier\u001b[38;5;241m.\u001b[39mdataset_slug\u001b[38;5;132;01m}\u001b[39;00m\u001b[38;5;124m'\u001b[39m\u001b[38;5;124m does not exist locally. \u001b[39m\u001b[38;5;124m\"\u001b[39m\n\u001b[1;32m     79\u001b[0m     \u001b[38;5;124mf\u001b[39m\u001b[38;5;124m\"\u001b[39m\u001b[38;5;124mUse \u001b[39m\u001b[38;5;124m'\u001b[39m\u001b[38;5;124mdarwin dataset remote\u001b[39m\u001b[38;5;124m'\u001b[39m\u001b[38;5;124m to see all the available datasets, \u001b[39m\u001b[38;5;124m\"\u001b[39m\n\u001b[1;32m     80\u001b[0m     \u001b[38;5;124mf\u001b[39m\u001b[38;5;124m\"\u001b[39m\u001b[38;5;124mand \u001b[39m\u001b[38;5;124m'\u001b[39m\u001b[38;5;124mdarwin dataset pull\u001b[39m\u001b[38;5;124m'\u001b[39m\u001b[38;5;124m to pull them.\u001b[39m\u001b[38;5;124m\"\u001b[39m\n\u001b[1;32m     81\u001b[0m )\n",
      "File \u001b[0;32m~/.conda/envs/mmdet/lib/python3.9/site-packages/darwin/torch/dataset.py:522\u001b[0m, in \u001b[0;36mObjectDetectionDataset.__init__\u001b[0;34m(self, transform, **kwargs)\u001b[0m\n\u001b[1;32m    521\u001b[0m \u001b[38;5;28;01mdef\u001b[39;00m \u001b[38;5;21m__init__\u001b[39m(\u001b[38;5;28mself\u001b[39m, transform: Optional[List] \u001b[38;5;241m=\u001b[39m \u001b[38;5;28;01mNone\u001b[39;00m, \u001b[38;5;241m*\u001b[39m\u001b[38;5;241m*\u001b[39mkwargs):\n\u001b[0;32m--> 522\u001b[0m     \u001b[38;5;28;43msuper\u001b[39;49m\u001b[43m(\u001b[49m\u001b[43m)\u001b[49m\u001b[38;5;241;43m.\u001b[39;49m\u001b[38;5;21;43m__init__\u001b[39;49m\u001b[43m(\u001b[49m\u001b[43mannotation_type\u001b[49m\u001b[38;5;241;43m=\u001b[39;49m\u001b[38;5;124;43m\"\u001b[39;49m\u001b[38;5;124;43mbounding_box\u001b[39;49m\u001b[38;5;124;43m\"\u001b[39;49m\u001b[43m,\u001b[49m\u001b[43m \u001b[49m\u001b[38;5;241;43m*\u001b[39;49m\u001b[38;5;241;43m*\u001b[39;49m\u001b[43mkwargs\u001b[49m\u001b[43m)\u001b[49m\n\u001b[1;32m    524\u001b[0m     \u001b[38;5;28;01mif\u001b[39;00m transform \u001b[38;5;129;01mis\u001b[39;00m \u001b[38;5;129;01mnot\u001b[39;00m \u001b[38;5;28;01mNone\u001b[39;00m \u001b[38;5;129;01mand\u001b[39;00m \u001b[38;5;28misinstance\u001b[39m(transform, \u001b[38;5;28mlist\u001b[39m):\n\u001b[1;32m    525\u001b[0m         transform \u001b[38;5;241m=\u001b[39m Compose(transform)\n",
      "File \u001b[0;32m~/.conda/envs/mmdet/lib/python3.9/site-packages/darwin/dataset/local_dataset.py:106\u001b[0m, in \u001b[0;36mLocalDataset.__init__\u001b[0;34m(self, dataset_path, annotation_type, partition, split, split_type, release_name)\u001b[0m\n\u001b[1;32m    104\u001b[0m         images\u001b[38;5;241m.\u001b[39mappend(image_path)\n\u001b[1;32m    105\u001b[0m \u001b[38;5;28;01mif\u001b[39;00m \u001b[38;5;28mlen\u001b[39m(images) \u001b[38;5;241m<\u001b[39m \u001b[38;5;241m1\u001b[39m:\n\u001b[0;32m--> 106\u001b[0m     \u001b[38;5;28;01mraise\u001b[39;00m \u001b[38;5;167;01mValueError\u001b[39;00m(\u001b[38;5;124mf\u001b[39m\u001b[38;5;124m\"\u001b[39m\u001b[38;5;124mAnnotation (\u001b[39m\u001b[38;5;132;01m{\u001b[39;00mannotation_path\u001b[38;5;132;01m}\u001b[39;00m\u001b[38;5;124m) does not have a corresponding image\u001b[39m\u001b[38;5;124m\"\u001b[39m)\n\u001b[1;32m    107\u001b[0m \u001b[38;5;28;01mif\u001b[39;00m \u001b[38;5;28mlen\u001b[39m(images) \u001b[38;5;241m>\u001b[39m \u001b[38;5;241m1\u001b[39m:\n\u001b[1;32m    108\u001b[0m     \u001b[38;5;28;01mraise\u001b[39;00m \u001b[38;5;167;01mValueError\u001b[39;00m(\u001b[38;5;124mf\u001b[39m\u001b[38;5;124m\"\u001b[39m\u001b[38;5;124mImage (\u001b[39m\u001b[38;5;132;01m{\u001b[39;00mstem\u001b[38;5;132;01m}\u001b[39;00m\u001b[38;5;124m) is present with multiple extensions. This is forbidden.\u001b[39m\u001b[38;5;124m\"\u001b[39m)\n",
      "\u001b[0;31mValueError\u001b[0m: Annotation (/home/ck37/.darwin/datasets/uscharvardecig/ecig-instagram-objection-detection/releases/2023-03-25-4632/annotations/2021-02-17 21.47.29 2511607846950066850_186439710.json) does not have a corresponding image"
     ]
    }
   ],
   "source": [
    "from darwin.torch import get_dataset\n",
    "dataset = get_dataset(dataset_id, dataset_type=\"object-detection\")\n",
    "print(dataset)\n",
    "\n",
    "print(dataset.classes)"
   ]
  },
  {
   "cell_type": "code",
   "execution_count": null,
   "id": "b9b46565-44b4-428a-9bfe-0a262dac3441",
   "metadata": {},
   "outputs": [],
   "source": []
  },
  {
   "cell_type": "markdown",
   "id": "06d520c8-550a-4697-a494-508a0e808d15",
   "metadata": {},
   "source": [
    "## Convert v7 to COCO format"
   ]
  },
  {
   "cell_type": "code",
   "execution_count": 13,
   "id": "2ef6de41-c1d1-4aca-a3f7-0be94b262820",
   "metadata": {
    "tags": []
   },
   "outputs": [
    {
     "name": "stdout",
     "output_type": "stream",
     "text": [
      "annotations  lists\n"
     ]
    }
   ],
   "source": [
    "dir_base = Path(\"/home/ck37/.darwin/datasets/\" + team_name + \"/\" + dataset_name + \"/releases/\")\n",
    "dir_labels = dir_base / dataset_version\n",
    "\n",
    "!ls {dir_labels}"
   ]
  },
  {
   "cell_type": "code",
   "execution_count": 14,
   "id": "113e9455-5d05-434c-af79-92ffe6a972e8",
   "metadata": {
    "tags": []
   },
   "outputs": [
    {
     "name": "stdout",
     "output_type": "stream",
     "text": [
      "Lists:\n",
      "3045_434_869_s1  classes_bounding_box.txt  classes_tag.txt  default\n",
      "Splits:\n",
      "random_test.txt   stratified_bounding_box_test.txt   stratified_tag_test.txt\n",
      "random_train.txt  stratified_bounding_box_train.txt  stratified_tag_train.txt\n",
      "random_val.txt\t  stratified_bounding_box_val.txt    stratified_tag_val.txt\n"
     ]
    }
   ],
   "source": [
    "# These are our train/val/test splits:\n",
    "dir_lists = dir_labels / \"lists\"\n",
    "print(\"Lists:\")\n",
    "!ls {dir_lists}\n",
    "\n",
    "print(\"Splits:\")\n",
    "dir_split = dir_labels / \"lists/default\"\n",
    "!ls {dir_split}"
   ]
  },
  {
   "cell_type": "code",
   "execution_count": 15,
   "id": "6b35c179-091e-44ed-81f8-50f527e0a863",
   "metadata": {
    "tags": []
   },
   "outputs": [
    {
     "name": "stdout",
     "output_type": "stream",
     "text": [
      "Found 12 classes.\n",
      "['box', 'e-cigarette brand name', 'e-juice', 'e-juice flavor', 'e-liquid', 'flavorname', 'mod', 'pod', 'smoke cloud', 'synthetic nicotine label', 'warning label nicotine', 'warning label tobacco-free']\n",
      "Categories: [{'supercategory': None, 'id': 0, 'name': 'box'}, {'supercategory': None, 'id': 1, 'name': 'e-cigarette brand name'}, {'supercategory': None, 'id': 2, 'name': 'e-juice'}, {'supercategory': None, 'id': 3, 'name': 'e-juice flavor'}, {'supercategory': None, 'id': 4, 'name': 'e-liquid'}, {'supercategory': None, 'id': 5, 'name': 'flavorname'}, {'supercategory': None, 'id': 6, 'name': 'mod'}, {'supercategory': None, 'id': 7, 'name': 'pod'}, {'supercategory': None, 'id': 8, 'name': 'smoke cloud'}, {'supercategory': None, 'id': 9, 'name': 'synthetic nicotine label'}, {'supercategory': None, 'id': 10, 'name': 'warning label nicotine'}, {'supercategory': None, 'id': 11, 'name': 'warning label tobacco-free'}]\n"
     ]
    }
   ],
   "source": [
    "# Import class names\n",
    "filename = dir_lists / \"classes_bounding_box.txt\"\n",
    "classes = open(filename, \"r\").read().splitlines()\n",
    "print(f'Found {len(classes)} classes.')\n",
    "print(classes)\n",
    "\n",
    "# Convert to coco category format\n",
    "categories = [{'supercategory': None, 'id': i, 'name': class_i} for i, class_i in enumerate(classes)]\n",
    "print(\"Categories:\", categories)"
   ]
  },
  {
   "cell_type": "markdown",
   "id": "14bb4a74-4c15-40c4-b5c5-7ab1c910233a",
   "metadata": {
    "tags": []
   },
   "source": [
    "## Generate output jsons"
   ]
  },
  {
   "cell_type": "code",
   "execution_count": 23,
   "id": "d7561329-c089-48c9-bb9c-e9879c5805c0",
   "metadata": {
    "tags": []
   },
   "outputs": [],
   "source": [
    "from pycocotools.coco import COCO\n",
    "import os\n",
    "import json, re, csv\n",
    "import cv2\n",
    "import numpy as np\n",
    "import pandas as pd\n",
    "\n",
    "def v7_annotations_to_coco_json(input_file, output_json,\n",
    "                                img_dir = dir_proj / \"data-raw/training-data/images\"):\n",
    "    filename = dir_split / input_file\n",
    "    image_files = open(filename, \"r\").read().splitlines()\n",
    "    print(f'Found {len(image_files)} images.')\n",
    "    print(image_files[:5])\n",
    "\n",
    "    # Import annotation jsons.\n",
    "    dir_json = dir_labels / \"annotations\"\n",
    "\n",
    "    # Bounding box list of dictionaries.\n",
    "    annotations = []\n",
    "    image_dicts = []\n",
    "    ann_counter = 0\n",
    "    channel_stats = []\n",
    "    \n",
    "    # Classification list of dictionaries.\n",
    "    class_annotations = []\n",
    "\n",
    "    for i, image_i in enumerate(image_files):\n",
    "        json_file = dir_json / str(image_i + \".json\")\n",
    "        if os.path.exists(json_file):\n",
    "            #annotations.append(json_file)\n",
    "\n",
    "            # Import the json file\n",
    "            ann = json.load(open(json_file, 'r'))\n",
    "            \n",
    "            # TODO: determine the file extension automatically so that it works for png or jpeg.\n",
    "            image_filename = image_i + '.jpg'\n",
    "            \n",
    "            image_path = img_dir / image_filename\n",
    "            if not image_path.exists():\n",
    "                print(\"Could not find image, skipping.\", image_path)\n",
    "                continue\n",
    "\n",
    "\n",
    "            # Extract the image info\n",
    "            image_dict = {\n",
    "                'width': ann['image']['width'],\n",
    "                'height': ann['image']['height'],\n",
    "                'id': image_i,\n",
    "                'file_name': image_filename\n",
    "            }\n",
    "            image_dicts.append(image_dict)\n",
    "            \n",
    "            # Load image and extract channel means and stddevs.\n",
    "            img = cv2.imread(str(image_path))\n",
    "            b = img[:,:,0]\n",
    "            g = img[:,:,1]\n",
    "            r = img[:,:,2]\n",
    "            channel_stats.append({\n",
    "                'mean_r': np.mean(r),\n",
    "                'mean_g': np.mean(g),\n",
    "                'mean_b': np.mean(b),\n",
    "                'std_r': np.std(r),\n",
    "                'std_g': np.std(g),\n",
    "                'std_b': np.std(b)\n",
    "            })\n",
    "            \n",
    "            if 'annotations' in ann.keys():\n",
    "                #print('Annotations:', ann['annotations'])\n",
    "                for ann_i in ann['annotations']:\n",
    "                    #######################\n",
    "                    # Handle bounding boxes\n",
    "                    if 'bounding_box' in ann_i.keys():\n",
    "                        bbox = ann_i['bounding_box']\n",
    "                        area = bbox['h'] * bbox['w']\n",
    "\n",
    "                        # elements should be x, y, width, height\n",
    "                        bbox_new = [bbox['x'], bbox['y'], bbox['w'], bbox['h']]\n",
    "\n",
    "                        ann_dict = {\n",
    "                            'area': area,\n",
    "                            'bbox': bbox_new,\n",
    "                            'iscrowd': 0,\n",
    "                            'segmentation': [],\n",
    "                            'image_id': image_i,\n",
    "                            'id': ann_counter,\n",
    "                            # TODO: confirm that this gives the same index as the categories list above.\n",
    "                            'category_id': classes.index(ann_i['name'])\n",
    "                        }\n",
    "\n",
    "                        ann_counter = ann_counter + 1\n",
    "                        annotations.append(ann_dict)\n",
    "                        \n",
    "                    #######################\n",
    "                    # Handle nonvaping tag\n",
    "                    class_img = {\n",
    "                        'file_name': image_filename\n",
    "                    }\n",
    "                    \n",
    "                    if 'name' in ann_i.keys() and ann_i['name'] == 'nonvaping':\n",
    "                        # Nonvaping image\n",
    "                        class_img['vaping'] = 0\n",
    "                    else:\n",
    "                        # Vaping image\n",
    "                        class_img['vaping'] = 1\n",
    "                        \n",
    "                    class_annotations.append(class_img)\n",
    "\n",
    "        else:\n",
    "            print(f'Could not find: {json_file}')\n",
    "        \n",
    "    ###############\n",
    "    # Bounding box export.\n",
    "    data_coco = {}\n",
    "\n",
    "    data_coco[\"images\"] = image_dicts\n",
    "    data_coco[\"categories\"] = categories\n",
    "    data_coco[\"annotations\"] = annotations\n",
    "    \n",
    "    # Create bounding box export.\n",
    "    # TODO: check that output_json can be opened.\n",
    "    json.dump(data_coco, open(output_json, \"w\"), indent=4)\n",
    "        \n",
    "    # See if the newly created json can be imported\n",
    "    coco = COCO(output_json)\n",
    "    # See if we can determine the category ids for our predefined classes\n",
    "    cat_ids = coco.getCatIds(classes)\n",
    "    print(\"Categories IDs confirmed:\", cat_ids)\n",
    "    \n",
    "    ##################\n",
    "    # Image classification export.\n",
    "    # Add -class just before .json in the output filename, and change to .txt\n",
    "    class_output_json = re.sub(r'(.json)$', r'-class.txt', str(output_json))\n",
    "    with open(class_output_json, 'w') as csvfile:\n",
    "        # openmmlab expects fields to be separated by spaces rather than commas.\n",
    "        writer = csv.DictWriter(csvfile, delimiter = \" \", fieldnames = class_annotations[1].keys())\n",
    "        writer.writerows(class_annotations)\n",
    "        \n",
    "        \n",
    "    # Calculate channel stats.\n",
    "    channel_df = pd.DataFrame(channel_stats)\n",
    "    return(channel_df)"
   ]
  },
  {
   "cell_type": "code",
   "execution_count": 24,
   "id": "d8431852-3195-4359-bcd8-1282f5aae5fb",
   "metadata": {
    "tags": []
   },
   "outputs": [
    {
     "name": "stdout",
     "output_type": "stream",
     "text": [
      "Training set creation\n",
      "Found 3045 images.\n",
      "['twisteliquids==2021-06-04_19-02-11_UTC', '2022-04-18_17-09-56_UTC', 'mustaqimahjati==2020-06-07_14-02-26_UTC', '20210226-drewdirps-0120-p1', '2023-01-18 01.56.55 3018353646592888436_6848110601']\n",
      "Could not find image, skipping. /home/ck37/projects/ecig-vaping/data-raw/training-data/images/000000005.jpg\n",
      "Could not find image, skipping. /home/ck37/projects/ecig-vaping/data-raw/training-data/images/2022-01-08 01.58.06 2746563148290867850_207580568.jpg\n",
      "Could not find image, skipping. /home/ck37/projects/ecig-vaping/data-raw/training-data/images/000000014.jpg\n",
      "Could not find image, skipping. /home/ck37/projects/ecig-vaping/data-raw/training-data/images/000000009.jpg\n",
      "Could not find image, skipping. /home/ck37/projects/ecig-vaping/data-raw/training-data/images/2021-04-05 07.12.43 2545203421029675085_3231772376.jpg\n",
      "Could not find image, skipping. /home/ck37/projects/ecig-vaping/data-raw/training-data/images/2021-12-16 02.15.08 2729901684211961245_3963274619.jpg\n",
      "Could not find image, skipping. /home/ck37/projects/ecig-vaping/data-raw/training-data/images/2021-04-26 04.16.00 2560335040291322290_1407653011.jpg\n",
      "Could not find image, skipping. /home/ck37/projects/ecig-vaping/data-raw/training-data/images/Screen Shot 2023-01-25 at 12.12.12 PM.jpg\n",
      "Could not find image, skipping. /home/ck37/projects/ecig-vaping/data-raw/training-data/images/2021-02-17 21.47.29 2511607846950066850_186439710.jpg\n",
      "Could not find image, skipping. /home/ck37/projects/ecig-vaping/data-raw/training-data/images/000000008.jpg\n",
      "Could not find image, skipping. /home/ck37/projects/ecig-vaping/data-raw/training-data/images/000000003.jpg\n",
      "Could not find image, skipping. /home/ck37/projects/ecig-vaping/data-raw/training-data/images/000000004.jpg\n",
      "Could not find image, skipping. /home/ck37/projects/ecig-vaping/data-raw/training-data/images/Screen Shot 2023-03-07 at 7.26.34 AM.jpg\n",
      "Could not find image, skipping. /home/ck37/projects/ecig-vaping/data-raw/training-data/images/000000012.jpg\n",
      "Could not find image, skipping. /home/ck37/projects/ecig-vaping/data-raw/training-data/images/000000002.jpg\n",
      "loading annotations into memory...\n",
      "Done (t=0.12s)\n",
      "creating index...\n",
      "index created!\n",
      "Categories IDs confirmed: [0, 1, 2, 3, 4, 5, 6, 7, 8, 9, 10, 11]\n",
      "mean_r    135.233485\n",
      "mean_g    125.864432\n",
      "mean_b    120.896442\n",
      "std_r      66.395113\n",
      "std_g      64.768785\n",
      "std_b      65.900943\n",
      "dtype: float64\n",
      "\n",
      "Validation set creation\n",
      "Found 434 images.\n",
      "['twisteliquids==2020-12-23_20-06-11_UTC', '2022-04-11_16-54-59_UTC', '2022-12-15 00.00.52 2993652861779081533_6848110601', '2022-12-20 00.42.42 2997297795632229921_44245176152', '2022-11-08 19.39.03 2967429155290372148_42267338763']\n",
      "Could not find image, skipping. /home/ck37/projects/ecig-vaping/data-raw/training-data/images/000000011.jpg\n",
      "loading annotations into memory...\n",
      "Done (t=0.00s)\n",
      "creating index...\n",
      "index created!\n",
      "Categories IDs confirmed: [0, 1, 2, 3, 4, 5, 6, 7, 8, 9, 10, 11]\n",
      "\n",
      "Test set creation\n",
      "Found 869 images.\n",
      "['tryrushnicotine==2017-07-24_21-01-01_UTC', '20210826-drewdirps-0217-p1', 'thedollarejuiceclub==2019-02-05_00-07-38_UTC', '2021-04-20 06.02.37 2556040199706428473_3042771448', '20210716-vaperz_edge-0101-p1']\n",
      "Could not find image, skipping. /home/ck37/projects/ecig-vaping/data-raw/training-data/images/000000013.jpg\n",
      "Could not find image, skipping. /home/ck37/projects/ecig-vaping/data-raw/training-data/images/000000001.jpg\n",
      "Could not find image, skipping. /home/ck37/projects/ecig-vaping/data-raw/training-data/images/000000010.jpg\n",
      "Could not find image, skipping. /home/ck37/projects/ecig-vaping/data-raw/training-data/images/000000000.jpg\n",
      "Could not find image, skipping. /home/ck37/projects/ecig-vaping/data-raw/training-data/images/Screen Shot 2023-01-25 at 12.47.56 PM.jpg\n",
      "Could not find image, skipping. /home/ck37/projects/ecig-vaping/data-raw/training-data/images/000000006.jpg\n",
      "Could not find image, skipping. /home/ck37/projects/ecig-vaping/data-raw/training-data/images/000000016.jpg\n",
      "Could not find image, skipping. /home/ck37/projects/ecig-vaping/data-raw/training-data/images/000000015.jpg\n",
      "Could not find image, skipping. /home/ck37/projects/ecig-vaping/data-raw/training-data/images/000000007.jpg\n",
      "loading annotations into memory...\n",
      "Done (t=0.01s)\n",
      "creating index...\n",
      "index created!\n",
      "Categories IDs confirmed: [0, 1, 2, 3, 4, 5, 6, 7, 8, 9, 10, 11]\n"
     ]
    }
   ],
   "source": [
    "dir_results = dir_proj / \"data/annotations/\"\n",
    "\n",
    "print(\"Training set creation\")\n",
    "train_df = v7_annotations_to_coco_json(\"stratified_bounding_box_train.txt\",\n",
    "                            dir_results / \"v7-coco-train.json\")\n",
    "\n",
    "# Actually we don't use these; we want to stick with the values used during pretraining.\n",
    "print(train_df.mean())\n",
    "\n",
    "print(\"\\nValidation set creation\")\n",
    "v7_annotations_to_coco_json(\"stratified_bounding_box_val.txt\",\n",
    "                            dir_results / \"v7-coco-val.json\")\n",
    "\n",
    "print(\"\\nTest set creation\")\n",
    "v7_annotations_to_coco_json(\"stratified_bounding_box_test.txt\",\n",
    "                            dir_results / \"v7-coco-test.json\");"
   ]
  },
  {
   "cell_type": "markdown",
   "id": "660a51ae-00d7-4ac9-a0ea-e95a96923225",
   "metadata": {},
   "source": [
    "## Image classification"
   ]
  },
  {
   "cell_type": "code",
   "execution_count": 38,
   "id": "02a7fbfa-284f-47b3-9061-e83df02fb6a1",
   "metadata": {},
   "outputs": [
    {
     "name": "stdout",
     "output_type": "stream",
     "text": [
      "ClassificationDataset():\n",
      "  Root: /home/ck37/.darwin/datasets/annotatevape/training-data\n",
      "  Number of images: 2487\n",
      "  Number of classes: 1\n",
      "['nonvaping']\n"
     ]
    }
   ],
   "source": [
    "from darwin.torch import get_dataset\n",
    "dataset = get_dataset(dataset_id, dataset_type=\"classification\")\n",
    "print(dataset)\n",
    "# Make sure that \"exclude\" is not one of the classes.\n",
    "print(dataset.classes)"
   ]
  },
  {
   "cell_type": "code",
   "execution_count": 39,
   "id": "9ff2fe17-ef55-4712-8001-7ecc725b0d7a",
   "metadata": {},
   "outputs": [
    {
     "data": {
      "text/plain": [
       "<darwin.torch.dataset.ClassificationDataset at 0x7f8697e3b3a0>"
      ]
     },
     "execution_count": 39,
     "metadata": {},
     "output_type": "execute_result"
    }
   ],
   "source": [
    "dataset"
   ]
  },
  {
   "cell_type": "code",
   "execution_count": 40,
   "id": "eac1a07d-4410-48c1-87d1-ea1f9997ab19",
   "metadata": {},
   "outputs": [
    {
     "name": "stdout",
     "output_type": "stream",
     "text": [
      "0 {'width': 720, 'height': 404, 'original_filename': '20190101-billytricks-0770-p1.jpg', 'filename': '20190101-billytricks-0770-p1.jpg', 'url': 'https://darwin.v7labs.com/api/images/263263371/original', 'thumbnail_url': 'https://darwin.v7labs.com/api/images/263263371/thumbnail', 'path': '/', 'workview_url': 'https://darwin.v7labs.com/workview?dataset=387034&image=855'}\n",
      "1 {'width': 720, 'height': 404, 'original_filename': '20190101-billytricks-0771-p1.jpg', 'filename': '20190101-billytricks-0771-p1.jpg', 'url': 'https://darwin.v7labs.com/api/images/263263230/original', 'thumbnail_url': 'https://darwin.v7labs.com/api/images/263263230/thumbnail', 'path': '/', 'workview_url': 'https://darwin.v7labs.com/workview?dataset=387034&image=714'}\n",
      "2 {'width': 720, 'height': 404, 'original_filename': '20190103-billytricks-0772-p1.jpg', 'filename': '20190103-billytricks-0772-p1.jpg', 'url': 'https://darwin.v7labs.com/api/images/263263258/original', 'thumbnail_url': 'https://darwin.v7labs.com/api/images/263263258/thumbnail', 'path': '/', 'workview_url': 'https://darwin.v7labs.com/workview?dataset=387034&image=742'}\n",
      "3 {'width': 720, 'height': 404, 'original_filename': '20190109-billytricks-0776-p1.jpg', 'filename': '20190109-billytricks-0776-p1.jpg', 'url': 'https://darwin.v7labs.com/api/images/263263299/original', 'thumbnail_url': 'https://darwin.v7labs.com/api/images/263263299/thumbnail', 'path': '/', 'workview_url': 'https://darwin.v7labs.com/workview?dataset=387034&image=783'}\n",
      "4 {'width': 720, 'height': 404, 'original_filename': '20190110-billytricks-0777-p1.jpg', 'filename': '20190110-billytricks-0777-p1.jpg', 'url': 'https://darwin.v7labs.com/api/images/263263268/original', 'thumbnail_url': 'https://darwin.v7labs.com/api/images/263263268/thumbnail', 'path': '/', 'workview_url': 'https://darwin.v7labs.com/workview?dataset=387034&image=752'}\n",
      "5 {'width': 720, 'height': 404, 'original_filename': '20190111-billytricks-0778-p1.jpg', 'filename': '20190111-billytricks-0778-p1.jpg', 'url': 'https://darwin.v7labs.com/api/images/263263326/original', 'thumbnail_url': 'https://darwin.v7labs.com/api/images/263263326/thumbnail', 'path': '/', 'workview_url': 'https://darwin.v7labs.com/workview?dataset=387034&image=810'}\n",
      "6 {'width': 640, 'height': 360, 'original_filename': '20190113-billytricks-0780-p1.jpg', 'filename': '20190113-billytricks-0780-p1.jpg', 'url': 'https://darwin.v7labs.com/api/images/263263165/original', 'thumbnail_url': 'https://darwin.v7labs.com/api/images/263263165/thumbnail', 'path': '/', 'workview_url': 'https://darwin.v7labs.com/workview?dataset=387034&image=649'}\n",
      "7 {'width': 1080, 'height': 720, 'original_filename': '20190114-_caralovely-2585-p1.jpg', 'filename': '20190114-_caralovely-2585-p1.jpg', 'url': 'https://darwin.v7labs.com/api/images/263263216/original', 'thumbnail_url': 'https://darwin.v7labs.com/api/images/263263216/thumbnail', 'path': '/', 'workview_url': 'https://darwin.v7labs.com/workview?dataset=387034&image=700'}\n",
      "8 {'width': 720, 'height': 404, 'original_filename': '20190116-billytricks-0781-p1.jpg', 'filename': '20190116-billytricks-0781-p1.jpg', 'url': 'https://darwin.v7labs.com/api/images/263263357/original', 'thumbnail_url': 'https://darwin.v7labs.com/api/images/263263357/thumbnail', 'path': '/', 'workview_url': 'https://darwin.v7labs.com/workview?dataset=387034&image=841'}\n",
      "9 {'width': 720, 'height': 404, 'original_filename': '20190121-billytricks-0784-p1.jpg', 'filename': '20190121-billytricks-0784-p1.jpg', 'url': 'https://darwin.v7labs.com/api/images/263263189/original', 'thumbnail_url': 'https://darwin.v7labs.com/api/images/263263189/thumbnail', 'path': '/', 'workview_url': 'https://darwin.v7labs.com/workview?dataset=387034&image=673'}\n",
      "10 {'width': 1080, 'height': 720, 'original_filename': '20190123-_caralovely-2600-p1.jpg', 'filename': '20190123-_caralovely-2600-p1.jpg', 'url': 'https://darwin.v7labs.com/api/images/263263286/original', 'thumbnail_url': 'https://darwin.v7labs.com/api/images/263263286/thumbnail', 'path': '/', 'workview_url': 'https://darwin.v7labs.com/workview?dataset=387034&image=770'}\n",
      "11 {'width': 1080, 'height': 720, 'original_filename': '20190124-_caralovely-2602-p1.jpg', 'filename': '20190124-_caralovely-2602-p1.jpg', 'url': 'https://darwin.v7labs.com/api/images/263263386/original', 'thumbnail_url': 'https://darwin.v7labs.com/api/images/263263386/thumbnail', 'path': '/', 'workview_url': 'https://darwin.v7labs.com/workview?dataset=387034&image=870'}\n",
      "12 {'width': 1080, 'height': 720, 'original_filename': '20190128-_caralovely-2609-p1.jpg', 'filename': '20190128-_caralovely-2609-p1.jpg', 'url': 'https://darwin.v7labs.com/api/images/263263431/original', 'thumbnail_url': 'https://darwin.v7labs.com/api/images/263263431/thumbnail', 'path': '/', 'workview_url': 'https://darwin.v7labs.com/workview?dataset=387034&image=915'}\n"
     ]
    },
    {
     "ename": "AssertionError",
     "evalue": "No tags were found for index=13",
     "output_type": "error",
     "traceback": [
      "\u001b[0;31m---------------------------------------------------------------------------\u001b[0m",
      "\u001b[0;31mAssertionError\u001b[0m                            Traceback (most recent call last)",
      "\u001b[0;32m/tmp/ipykernel_6403/2346927604.py\u001b[0m in \u001b[0;36m<module>\u001b[0;34m\u001b[0m\n\u001b[0;32m----> 1\u001b[0;31m \u001b[0;32mfor\u001b[0m \u001b[0mi\u001b[0m\u001b[0;34m,\u001b[0m \u001b[0mitem\u001b[0m \u001b[0;32min\u001b[0m \u001b[0menumerate\u001b[0m\u001b[0;34m(\u001b[0m\u001b[0mdataset\u001b[0m\u001b[0;34m)\u001b[0m\u001b[0;34m:\u001b[0m\u001b[0;34m\u001b[0m\u001b[0;34m\u001b[0m\u001b[0m\n\u001b[0m\u001b[1;32m      2\u001b[0m     \u001b[0minfo\u001b[0m \u001b[0;34m=\u001b[0m \u001b[0mdataset\u001b[0m\u001b[0;34m.\u001b[0m\u001b[0mget_img_info\u001b[0m\u001b[0;34m(\u001b[0m\u001b[0mi\u001b[0m\u001b[0;34m)\u001b[0m\u001b[0;34m\u001b[0m\u001b[0;34m\u001b[0m\u001b[0m\n\u001b[1;32m      3\u001b[0m     \u001b[0mprint\u001b[0m\u001b[0;34m(\u001b[0m\u001b[0mi\u001b[0m\u001b[0;34m,\u001b[0m \u001b[0minfo\u001b[0m\u001b[0;34m)\u001b[0m\u001b[0;34m\u001b[0m\u001b[0;34m\u001b[0m\u001b[0m\n",
      "\u001b[0;32m~/miniforge3/envs/openmmlab/lib/python3.8/site-packages/darwin/torch/dataset.py\u001b[0m in \u001b[0;36m__getitem__\u001b[0;34m(self, index)\u001b[0m\n\u001b[1;32m    127\u001b[0m             \u001b[0mimg_tensor\u001b[0m \u001b[0;34m=\u001b[0m \u001b[0mto_tensor\u001b[0m\u001b[0;34m(\u001b[0m\u001b[0mimg\u001b[0m\u001b[0;34m)\u001b[0m\u001b[0;34m\u001b[0m\u001b[0;34m\u001b[0m\u001b[0m\n\u001b[1;32m    128\u001b[0m \u001b[0;34m\u001b[0m\u001b[0m\n\u001b[0;32m--> 129\u001b[0;31m         \u001b[0mtarget\u001b[0m \u001b[0;34m=\u001b[0m \u001b[0mself\u001b[0m\u001b[0;34m.\u001b[0m\u001b[0mget_target\u001b[0m\u001b[0;34m(\u001b[0m\u001b[0mindex\u001b[0m\u001b[0;34m)\u001b[0m\u001b[0;34m\u001b[0m\u001b[0;34m\u001b[0m\u001b[0m\n\u001b[0m\u001b[1;32m    130\u001b[0m \u001b[0;34m\u001b[0m\u001b[0m\n\u001b[1;32m    131\u001b[0m         \u001b[0;32mreturn\u001b[0m \u001b[0mimg_tensor\u001b[0m\u001b[0;34m,\u001b[0m \u001b[0mtarget\u001b[0m\u001b[0;34m\u001b[0m\u001b[0;34m\u001b[0m\u001b[0m\n",
      "\u001b[0;32m~/miniforge3/envs/openmmlab/lib/python3.8/site-packages/darwin/torch/dataset.py\u001b[0m in \u001b[0;36mget_target\u001b[0;34m(self, index)\u001b[0m\n\u001b[1;32m    150\u001b[0m         \u001b[0mtags\u001b[0m \u001b[0;34m=\u001b[0m \u001b[0;34m[\u001b[0m\u001b[0ma\u001b[0m\u001b[0;34m[\u001b[0m\u001b[0;34m\"name\"\u001b[0m\u001b[0;34m]\u001b[0m \u001b[0;32mfor\u001b[0m \u001b[0ma\u001b[0m \u001b[0;32min\u001b[0m \u001b[0mannotations\u001b[0m \u001b[0;32mif\u001b[0m \u001b[0;34m\"tag\"\u001b[0m \u001b[0;32min\u001b[0m \u001b[0ma\u001b[0m\u001b[0;34m]\u001b[0m\u001b[0;34m\u001b[0m\u001b[0;34m\u001b[0m\u001b[0m\n\u001b[1;32m    151\u001b[0m \u001b[0;34m\u001b[0m\u001b[0m\n\u001b[0;32m--> 152\u001b[0;31m         \u001b[0;32massert\u001b[0m \u001b[0mlen\u001b[0m\u001b[0;34m(\u001b[0m\u001b[0mtags\u001b[0m\u001b[0;34m)\u001b[0m \u001b[0;34m>=\u001b[0m \u001b[0;36m1\u001b[0m\u001b[0;34m,\u001b[0m \u001b[0;34mf\"No tags were found for index={index}\"\u001b[0m\u001b[0;34m\u001b[0m\u001b[0;34m\u001b[0m\u001b[0m\n\u001b[0m\u001b[1;32m    153\u001b[0m \u001b[0;34m\u001b[0m\u001b[0m\n\u001b[1;32m    154\u001b[0m         \u001b[0mtarget\u001b[0m\u001b[0;34m:\u001b[0m \u001b[0mTensor\u001b[0m \u001b[0;34m=\u001b[0m \u001b[0mtorch\u001b[0m\u001b[0;34m.\u001b[0m\u001b[0mtensor\u001b[0m\u001b[0;34m(\u001b[0m\u001b[0mself\u001b[0m\u001b[0;34m.\u001b[0m\u001b[0mclasses\u001b[0m\u001b[0;34m.\u001b[0m\u001b[0mindex\u001b[0m\u001b[0;34m(\u001b[0m\u001b[0mtags\u001b[0m\u001b[0;34m[\u001b[0m\u001b[0;36m0\u001b[0m\u001b[0;34m]\u001b[0m\u001b[0;34m)\u001b[0m\u001b[0;34m)\u001b[0m\u001b[0;34m\u001b[0m\u001b[0;34m\u001b[0m\u001b[0m\n",
      "\u001b[0;31mAssertionError\u001b[0m: No tags were found for index=13"
     ]
    }
   ],
   "source": [
    "\n",
    "for i, item in enumerate(dataset):\n",
    "    info = dataset.get_img_info(i)\n",
    "    print(i, info)"
   ]
  },
  {
   "cell_type": "code",
   "execution_count": 18,
   "id": "d82e8f89-2bd6-45b6-8a14-57ec6bfa2132",
   "metadata": {},
   "outputs": [
    {
     "ename": "AttributeError",
     "evalue": "'ClassificationDataset' object has no attribute 'annotations'",
     "output_type": "error",
     "traceback": [
      "\u001b[0;31m---------------------------------------------------------------------------\u001b[0m",
      "\u001b[0;31mAttributeError\u001b[0m                            Traceback (most recent call last)",
      "\u001b[0;32m/tmp/ipykernel_500915/2045976393.py\u001b[0m in \u001b[0;36m<module>\u001b[0;34m\u001b[0m\n\u001b[0;32m----> 1\u001b[0;31m \u001b[0mdataset\u001b[0m\u001b[0;34m.\u001b[0m\u001b[0mannotations\u001b[0m\u001b[0;34m\u001b[0m\u001b[0;34m\u001b[0m\u001b[0m\n\u001b[0m",
      "\u001b[0;31mAttributeError\u001b[0m: 'ClassificationDataset' object has no attribute 'annotations'"
     ]
    }
   ],
   "source": [
    "dataset.annotations"
   ]
  },
  {
   "cell_type": "code",
   "execution_count": null,
   "id": "1fb68e93-9e02-472b-8d0b-590c4e1adec1",
   "metadata": {},
   "outputs": [],
   "source": []
  }
 ],
 "metadata": {
  "kernelspec": {
   "display_name": "Python [conda env:.conda-mmdet]",
   "language": "python",
   "name": "conda-env-.conda-mmdet-py"
  },
  "language_info": {
   "codemirror_mode": {
    "name": "ipython",
    "version": 3
   },
   "file_extension": ".py",
   "mimetype": "text/x-python",
   "name": "python",
   "nbconvert_exporter": "python",
   "pygments_lexer": "ipython3",
   "version": "3.9.16"
  }
 },
 "nbformat": 4,
 "nbformat_minor": 5
}
