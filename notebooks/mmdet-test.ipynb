{
 "cells": [
  {
   "cell_type": "code",
   "execution_count": 1,
   "id": "f228f1ed-18a6-4df2-aac6-b7b3e8f49a2b",
   "metadata": {
    "tags": []
   },
   "outputs": [
    {
     "name": "stderr",
     "output_type": "stream",
     "text": [
      "/home/ck37/.conda/envs/mmdet/lib/python3.9/site-packages/tqdm/auto.py:21: TqdmWarning: IProgress not found. Please update jupyter and ipywidgets. See https://ipywidgets.readthedocs.io/en/stable/user_install.html\n",
      "  from .autonotebook import tqdm as notebook_tqdm\n"
     ]
    },
    {
     "name": "stdout",
     "output_type": "stream",
     "text": [
      "PyTorch version: 1.13.1\n",
      "GPU available: True\n",
      "GPU device count: 4\n",
      "CUDA version: 11.7\n",
      "CUDA max memory allocated: 0 Bytes\n",
      "PyTorch CUDA archs: ['sm_37', 'sm_50', 'sm_60', 'sm_61', 'sm_70', 'sm_75', 'sm_80', 'sm_86', 'compute_37']\n",
      "mmcv version: 1.6.0\n",
      "mmdet version: 2.28.2\n"
     ]
    }
   ],
   "source": [
    "import torch, humanize, mmcv, mmdet\n",
    "print(\"PyTorch version:\", torch.__version__)\n",
    "print(\"GPU available:\", torch.cuda.is_available())\n",
    "print(\"GPU device count:\", torch.cuda.device_count())\n",
    "print(\"CUDA version:\", torch.version.cuda)\n",
    "print(f'CUDA max memory allocated: {humanize.naturalsize(torch.cuda.max_memory_allocated())}')\n",
    "print(\"PyTorch CUDA archs:\", torch.cuda.get_arch_list())\n",
    "print(\"mmcv version:\", mmcv.__version__)\n",
    "print(\"mmdet version:\", mmdet.__version__) #"
   ]
  },
  {
   "cell_type": "code",
   "execution_count": 2,
   "id": "f49f493d-9e16-4642-80e4-35b5b1555d76",
   "metadata": {
    "tags": []
   },
   "outputs": [
    {
     "name": "stdout",
     "output_type": "stream",
     "text": [
      "Project directory: /home/ck37/projects/ecig-vaping\n",
      "/home/ck37/projects/ecig-vaping/external/mmdetection\n"
     ]
    }
   ],
   "source": [
    "from pathlib import Path\n",
    "import pyprojroot\n",
    "dir_proj = pyprojroot.here()\n",
    "print(\"Project directory:\", dir_proj)\n",
    "dir_mm = dir_proj / \"external/mmdetection\"\n",
    "print(dir_mm)"
   ]
  },
  {
   "cell_type": "markdown",
   "id": "c55c2502-292e-4ee6-a734-ee0064aa5b50",
   "metadata": {},
   "source": [
    "## Model setup"
   ]
  },
  {
   "cell_type": "code",
   "execution_count": 3,
   "id": "f20eb809-5927-4bb8-921d-176fa229db25",
   "metadata": {
    "tags": []
   },
   "outputs": [
    {
     "name": "stdout",
     "output_type": "stream",
     "text": [
      "Model file: ../models/dyhead.py\n",
      "Find model: True\n",
      "Checkpoint file: /home/ck37/projects/ecig-vaping/notebooks/work_dirs/dyhead-20230325-193432/latest.pth\n",
      "Find checkpoint: True\n"
     ]
    }
   ],
   "source": [
    "# Copied from mmdet-train.ipynb and video-evaluation.ipynb\n",
    "model_name = \"vfnet_x101_64x4d_fpn_mdconv_c3-c5_mstrain_2x_coco\"\n",
    "timestr = \"20220523-105448\"\n",
    "\n",
    "model_name = \"dyhead\" # 2023-04-17\n",
    "timestr = \"20230325-193432\" # 2023-03-25\n",
    "\n",
    "dir_models = Path(\"../models/\")\n",
    "\n",
    "path_model = dir_models / str(model_name + \".py\")\n",
    "print(\"Model file:\", path_model)\n",
    "print(\"Find model:\", path_model.is_file())\n",
    "\n",
    "file_checkpoint = dir_proj / ('notebooks/work_dirs/' + model_name + \"-\" + timestr +'/latest.pth')\n",
    "print(\"Checkpoint file:\", file_checkpoint)\n",
    "print(\"Find checkpoint:\", file_checkpoint.is_file())"
   ]
  },
  {
   "cell_type": "markdown",
   "id": "3735ea80-d114-4fa1-a0d7-334e13fc3d23",
   "metadata": {},
   "source": [
    "## Test model"
   ]
  },
  {
   "cell_type": "code",
   "execution_count": 9,
   "id": "86ed4292-9156-4bfe-b39b-30fa5152acfe",
   "metadata": {
    "tags": []
   },
   "outputs": [
    {
     "name": "stdout",
     "output_type": "stream",
     "text": [
      "/home/ck37/.conda/envs/mmdet/lib/python3.9/site-packages/torch/distributed/launch.py:180: FutureWarning: The module torch.distributed.launch is deprecated\n",
      "and will be removed in future. Use torchrun.\n",
      "Note that --use_env is set by default in torchrun.\n",
      "If your script expects `--local_rank` argument to be set, please\n",
      "change it to read from `os.environ['LOCAL_RANK']` instead. See \n",
      "https://pytorch.org/docs/stable/distributed.html#launch-utility for \n",
      "further instructions\n",
      "\n",
      "  warnings.warn(\n",
      "WARNING:torch.distributed.run:\n",
      "*****************************************\n",
      "Setting OMP_NUM_THREADS environment variable for each process to be 1 in default, to avoid your system being overloaded, please further tune the variable for optimal performance in your application as needed. \n",
      "*****************************************\n",
      "/home/ck37/projects/ecig-vaping/external/mmdetection/tools/test.py:116: UserWarning: --options is deprecated in favor of --eval-options\n",
      "  warnings.warn('--options is deprecated in favor of --eval-options')\n",
      "/home/ck37/projects/ecig-vaping/external/mmdetection/tools/test.py:116: UserWarning: --options is deprecated in favor of --eval-options\n",
      "  warnings.warn('--options is deprecated in favor of --eval-options')\n",
      "/home/ck37/projects/ecig-vaping/external/mmdetection/mmdet/utils/setup_env.py:48: UserWarning: Setting MKL_NUM_THREADS environment variable for each process to be 1 in default, to avoid your system being overloaded, please further tune the variable for optimal performance in your application as needed.\n",
      "  warnings.warn(\n",
      "/home/ck37/projects/ecig-vaping/external/mmdetection/mmdet/utils/setup_env.py:48: UserWarning: Setting MKL_NUM_THREADS environment variable for each process to be 1 in default, to avoid your system being overloaded, please further tune the variable for optimal performance in your application as needed.\n",
      "  warnings.warn(\n",
      "loading annotations into memory...\n",
      "loading annotations into memory...\n",
      "Done (t=0.02s)\n",
      "creating index...\n",
      "Done (t=0.02s)\n",
      "creating index...\n",
      "index created!\n",
      "index created!\n",
      "/home/ck37/.conda/envs/mmdet/lib/python3.9/site-packages/mmcv/cnn/bricks/hsigmoid.py:36: UserWarning: In MMCV v1.4.4, we modified the default value of args to align with PyTorch official. Previous Implementation: Hsigmoid(x) = min(max((x + 1) / 2, 0), 1). Current Implementation: Hsigmoid(x) = min(max((x + 3) / 6, 0), 1).\n",
      "  warnings.warn(\n",
      "/home/ck37/.conda/envs/mmdet/lib/python3.9/site-packages/mmcv/cnn/bricks/hsigmoid.py:36: UserWarning: In MMCV v1.4.4, we modified the default value of args to align with PyTorch official. Previous Implementation: Hsigmoid(x) = min(max((x + 1) / 2, 0), 1). Current Implementation: Hsigmoid(x) = min(max((x + 3) / 6, 0), 1).\n",
      "  warnings.warn(\n",
      "/home/ck37/projects/ecig-vaping/external/mmdetection/mmdet/models/dense_heads/anchor_head.py:116: UserWarning: DeprecationWarning: `num_anchors` is deprecated, for consistency or also use `num_base_priors` instead\n",
      "  warnings.warn('DeprecationWarning: `num_anchors` is deprecated, '\n",
      "/home/ck37/projects/ecig-vaping/external/mmdetection/mmdet/models/dense_heads/anchor_head.py:116: UserWarning: DeprecationWarning: `num_anchors` is deprecated, for consistency or also use `num_base_priors` instead\n",
      "  warnings.warn('DeprecationWarning: `num_anchors` is deprecated, '\n",
      "load checkpoint from local path: /home/ck37/projects/ecig-vaping/notebooks/work_dirs/dyhead-20230325-193432/latest.pth\n",
      "load checkpoint from local path: /home/ck37/projects/ecig-vaping/notebooks/work_dirs/dyhead-20230325-193432/latest.pth\n",
      "[>>>>>>>>>>>>>>>>>>>>>>>>>>>>>] 860/860, 5.7 task/s, elapsed: 150s, ETA:     0s\n",
      "writing results to out.pkl\n",
      "\n",
      "Evaluating bbox...\n",
      "Loading and preparing results...\n",
      "DONE (t=0.14s)\n",
      "creating index...\n",
      "index created!\n",
      "Running per image evaluation...\n",
      "Evaluate annotation type *bbox*\n",
      "DONE (t=1.21s).\n",
      "Accumulating evaluation results...\n",
      "DONE (t=0.33s).\n",
      "\n",
      " Average Precision  (AP) @[ IoU=0.50:0.95 | area=   all | maxDets=100 ] = 0.701\n",
      " Average Precision  (AP) @[ IoU=0.50      | area=   all | maxDets=1000 ] = 0.841\n",
      " Average Precision  (AP) @[ IoU=0.75      | area=   all | maxDets=1000 ] = 0.763\n",
      " Average Precision  (AP) @[ IoU=0.50:0.95 | area= small | maxDets=1000 ] = 0.309\n",
      " Average Precision  (AP) @[ IoU=0.50:0.95 | area=medium | maxDets=1000 ] = 0.633\n",
      " Average Precision  (AP) @[ IoU=0.50:0.95 | area= large | maxDets=1000 ] = 0.747\n",
      " Average Recall     (AR) @[ IoU=0.50:0.95 | area=   all | maxDets=100 ] = 0.824\n",
      " Average Recall     (AR) @[ IoU=0.50:0.95 | area=   all | maxDets=300 ] = 0.824\n",
      " Average Recall     (AR) @[ IoU=0.50:0.95 | area=   all | maxDets=1000 ] = 0.824\n",
      " Average Recall     (AR) @[ IoU=0.50:0.95 | area= small | maxDets=1000 ] = 0.414\n",
      " Average Recall     (AR) @[ IoU=0.50:0.95 | area=medium | maxDets=1000 ] = 0.763\n",
      " Average Recall     (AR) @[ IoU=0.50:0.95 | area= large | maxDets=1000 ] = 0.865\n",
      "\n",
      "\n",
      "+----------------+-------+--------------------------+-------+------------------------+-------+\n",
      "| category       | AP    | category                 | AP    | category               | AP    |\n",
      "+----------------+-------+--------------------------+-------+------------------------+-------+\n",
      "| box            | 0.842 | e-cigarette brand name   | 0.714 | e-juice                | 0.888 |\n",
      "| e-juice flavor | 0.650 | mod                      | 0.539 | pod                    | 0.656 |\n",
      "| smoke cloud    | 0.455 | synthetic nicotine label | 0.713 | warning label nicotine | 0.855 |\n",
      "+----------------+-------+--------------------------+-------+------------------------+-------+\n",
      "OrderedDict([('bbox_mAP', 0.7013), ('bbox_mAP_50', 0.841), ('bbox_mAP_75', 0.7629), ('bbox_mAP_s', 0.3095), ('bbox_mAP_m', 0.633), ('bbox_mAP_l', 0.7471), ('bbox_mAP_copypaste', '0.7013 0.8410 0.7629 0.3095 0.6330 0.7471')])\n"
     ]
    }
   ],
   "source": [
    "import time\n",
    "timestr = time.strftime(\"%Y%m%d-%H%M%S\")\n",
    "\n",
    "!{dir_mm}/tools/dist_test.sh {path_model} \\\n",
    "  {file_checkpoint} \\\n",
    "  2 \\\n",
    "  --eval bbox \\\n",
    "  --options \"classwise=True\" \\\n",
    "  --work-dir work_dirs/test-{model_name}-{timestr} \\\n",
    "  --out work_dirs/test-{model_name}-{timestr}/out.pkl"
   ]
  },
  {
   "cell_type": "code",
   "execution_count": 10,
   "id": "d19bd510-8bd2-4de5-a5d4-a0ccb8a97180",
   "metadata": {
    "tags": []
   },
   "outputs": [
    {
     "name": "stdout",
     "output_type": "stream",
     "text": [
      "eval_20230417_224913.json\n"
     ]
    }
   ],
   "source": [
    "!ls work_dirs/test-{model_name}-{timestr}"
   ]
  },
  {
   "cell_type": "code",
   "execution_count": 11,
   "id": "2cb112e8-5375-4bcf-bbde-61e47ca54cf1",
   "metadata": {
    "tags": []
   },
   "outputs": [
    {
     "name": "stdout",
     "output_type": "stream",
     "text": [
      "analyze-unlabeled-videos.Rmd\tocr.ipynb\n",
      "compile-video-results.ipynb\tocr-nlp.ipynb\n",
      "dataset_analysis\t\tout.pkl\n",
      "detect-faces.ipynb\t\tscore-videos.ipynb\n",
      "detect-faces.py\t\t\tv7-annotations-to-coco.ipynb\n",
      "face-recognition-testing.ipynb\tvideo_demo-ck.py\n",
      "mmclass-train.ipynb\t\tvideo-evaluation.ipynb\n",
      "mmdet-test.ipynb\t\twork_dirs\n",
      "mmdet-train.ipynb\n"
     ]
    }
   ],
   "source": [
    "!ls"
   ]
  },
  {
   "cell_type": "markdown",
   "id": "07141071-f0c3-41e6-bb0d-57af8f5421fb",
   "metadata": {},
   "source": [
    "## Confusion matrix plot"
   ]
  },
  {
   "cell_type": "code",
   "execution_count": 19,
   "id": "5b033f83-9b68-4950-879b-150d3d54da88",
   "metadata": {
    "tags": []
   },
   "outputs": [
    {
     "name": "stdout",
     "output_type": "stream",
     "text": [
      "loading annotations into memory...\n",
      "Done (t=0.01s)\n",
      "creating index...\n",
      "index created!\n",
      "[>>>>>>>>>>>>>>>>>>>>>>>>>>>>] 860/860, 2884.5 task/s, elapsed: 0s, ETA:     0s"
     ]
    }
   ],
   "source": [
    "#work_dirs/test-{model_name}-{timestr}/out.pkl \\\n",
    "!python {dir_mm}/tools/analysis_tools/confusion_matrix.py \\\n",
    "    {path_model} \\\n",
    "    out.pkl \\\n",
    "    work_dirs/test-{model_name}-{timestr}"
   ]
  },
  {
   "cell_type": "code",
   "execution_count": 20,
   "id": "54696ad3-5c5b-41af-b77a-c0606c7ffc10",
   "metadata": {
    "tags": []
   },
   "outputs": [
    {
     "name": "stdout",
     "output_type": "stream",
     "text": [
      "confusion_matrix.png  eval_20230417_224913.json\n"
     ]
    }
   ],
   "source": [
    "!ls work_dirs/test-{model_name}-{timestr}"
   ]
  },
  {
   "cell_type": "code",
   "execution_count": null,
   "id": "2db9c4e5-d0f9-4ec1-a488-f49a1782737a",
   "metadata": {},
   "outputs": [],
   "source": []
  }
 ],
 "metadata": {
  "kernelspec": {
   "display_name": "Python [conda env:.conda-mmdet]",
   "language": "python",
   "name": "conda-env-.conda-mmdet-py"
  },
  "language_info": {
   "codemirror_mode": {
    "name": "ipython",
    "version": 3
   },
   "file_extension": ".py",
   "mimetype": "text/x-python",
   "name": "python",
   "nbconvert_exporter": "python",
   "pygments_lexer": "ipython3",
   "version": "3.9.16"
  }
 },
 "nbformat": 4,
 "nbformat_minor": 5
}
