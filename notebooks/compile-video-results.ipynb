{
 "cells": [
  {
   "cell_type": "markdown",
   "id": "92ece8dc-52df-47bb-85e1-275eda2bd6fe",
   "metadata": {},
   "source": [
    "# Compile video results\n",
    "\n",
    "For deep learning paper, March 28, 2023\n",
    "\n"
   ]
  },
  {
   "cell_type": "code",
   "execution_count": 2,
   "id": "5a137562-b7ab-49c9-b2ba-0ed85710ab4d",
   "metadata": {},
   "outputs": [
    {
     "name": "stdout",
     "output_type": "stream",
     "text": [
      "Project directory: /home/ck37/projects/ecig-vaping\n",
      "Video directory: /vape/collection/appended_scrape_download/TikTok/Influencers/tot_coding\n",
      "<class 'pandas.core.frame.DataFrame'>\n",
      "RangeIndex: 17361 entries, 0 to 17360\n",
      "Data columns (total 9 columns):\n",
      " #   Column             Non-Null Count  Dtype \n",
      "---  ------             --------------  ----- \n",
      " 0   Unnamed: 0         17361 non-null  int64 \n",
      " 1   infl_username      17361 non-null  object\n",
      " 2   number             17361 non-null  int64 \n",
      " 3   video_path         17361 non-null  object\n",
      " 4   video_shortcode    17361 non-null  object\n",
      " 5   year               17361 non-null  int64 \n",
      " 6   year_recent        17361 non-null  int64 \n",
      " 7   date_tot           17361 non-null  object\n",
      " 8   n_videos_per_infl  17361 non-null  int64 \n",
      "dtypes: int64(5), object(4)\n",
      "memory usage: 1.2+ MB\n",
      "Analysis output dir: /home/ck37/projects/ecig-vaping/data/detections/analytic_sample_17361_20192022\n"
     ]
    }
   ],
   "source": [
    "from pathlib import Path\n",
    "import pyprojroot\n",
    "dir_proj = pyprojroot.here()\n",
    "print(\"Project directory:\", dir_proj)\n",
    "\n",
    "dir_videos = Path(\"/vape/collection/appended_scrape_download/TikTok/Influencers/tot_coding\")\n",
    "print(\"Video directory:\", dir_videos)\n",
    "\n",
    "import pandas as pd\n",
    "import numpy as np\n",
    "\n",
    "file_video_list = \"../analytic_sample_17361_20192022.csv\"\n",
    "video_df = pd.read_csv(dir_videos / file_video_list)\n",
    "video_df.info()\n",
    "\n",
    "dir_output = pyprojroot.here() / \"data/detections/\" / Path(file_video_list).stem\n",
    "print(\"Analysis output dir:\", dir_output)"
   ]
  },
  {
   "cell_type": "code",
   "execution_count": 3,
   "id": "f9304f00-4bca-4f3e-957a-06977e292d4c",
   "metadata": {},
   "outputs": [
    {
     "name": "stdout",
     "output_type": "stream",
     "text": [
      "14091\n",
      "14072\n"
     ]
    }
   ],
   "source": [
    "# Check progress\n",
    "# pkl = scored video rseult\n",
    "# parquest = frames processed by this script\n",
    "!ls -l {dir_output}/*.pkl | wc -l; ls -l {dir_output}/**.parquet | wc -l"
   ]
  },
  {
   "cell_type": "code",
   "execution_count": 5,
   "id": "f7508ad0-854d-4c7c-80ba-81e1ff7a0c46",
   "metadata": {},
   "outputs": [
    {
     "name": "stdout",
     "output_type": "stream",
     "text": [
      "Scored videos found: 14072\n"
     ]
    }
   ],
   "source": [
    "# Extract all videos that have been scored\n",
    "scored_videos = list(dir_output.glob(\"*.pkl\"))\n",
    "print(\"Scored videos found:\", len(scored_videos))"
   ]
  },
  {
   "cell_type": "code",
   "execution_count": 92,
   "id": "b789ecff-4704-458e-b257-1219e6375e8a",
   "metadata": {},
   "outputs": [],
   "source": [
    "import pickle\n",
    "\n",
    "def analyze_video_pkl(video_pkl):\n",
    "    video_preds = pickle.load(open(video_pkl, 'rb'))\n",
    "    video_name = video_pkl.stem\n",
    "    # Each pickle contains the equivalent of the json - one element per frame, and each frame has a list of object detections for each class.\n",
    "    \n",
    "    n_frames =  len(video_preds)\n",
    "    print(\"Frames:\", n_frames)\n",
    "    \n",
    "    # Current class order (9):\n",
    "    classes = ('box', 'e-cigarette brand name', 'e-juice', 'e-juice flavor', 'mod', 'pod', 'smoke cloud', 'synthetic nicotine label', 'warning label nicotine')\n",
    "    \n",
    "    # Define the columns that we want to track\n",
    "    df_columns = (\n",
    "                'video',\n",
    "                'frame',\n",
    "    ) + classes\n",
    "    \n",
    "    # Create a dataframe to store the frame counts for each object.\n",
    "    #video_df = \\\n",
    "    #    pd.DataFrame(0,\n",
    "    #                 index = np.arange(n_frames),\n",
    "    #                 columns = df_columns)\n",
    "    \n",
    "    video_df = \\\n",
    "        pd.DataFrame(0.,\n",
    "                     index = np.arange(n_frames),\n",
    "                     columns = classes)\n",
    "\n",
    "    #video_df['frame'] = np.arange(n_frames)\n",
    "    #video_df['video'] = video_name\n",
    "\n",
    "    \n",
    "    # Loop over each frame and extract the highest predicted prob for each class.\n",
    "    for frame_i, frame in enumerate(video_preds):\n",
    "                \n",
    "        # These are the object detections that we want to count\n",
    "        #pred_types = ('mod',\n",
    "        #              'pod',\n",
    "        #              'e-juice',\n",
    "        #              'box',\n",
    "        #              'smoke cloud')\n",
    "        pred_types = classes\n",
    "            \n",
    "        # Loop over each prediction type that we care about and keep the highest probability for that class on this frame.\n",
    "        for pred_type_i in pred_types:\n",
    "            \n",
    "            df_pred_col_i = list(video_df.columns).index(pred_type_i)\n",
    "            \n",
    "            # Find the location of this object type in the model result object.\n",
    "            pred_index = classes.index(pred_type_i)\n",
    "\n",
    "            # Count the number of predictions for this object that exceed the probability threshold for detection.\n",
    "            # Extract the probability prediction for any detected objects\n",
    "            frame_probs = [pred_i[4] for pred_i in frame[pred_index]]\n",
    "\n",
    "            if len(frame_probs) > 0:\n",
    "                max_prob = np.max(frame_probs)\n",
    "            else:\n",
    "                max_prob = 0.\n",
    "            #print(f\"Updating: {frame_i}, {pred_type_i}, {max_prob}\")\n",
    "            #print(len(video_df[pred_type_i]))\n",
    "            #print(video_df.loc[frame_i])\n",
    "            #print(video_df.loc[frame_i])\n",
    "\n",
    "            #video_df.loc[int(frame_i), pred_type_i] = max_prob\n",
    "            video_df.loc[frame_i, pred_type_i] = max_prob\n",
    "            #video_df.loc[frame_i, pred_type_i] = max_prob\n",
    "\n",
    "\n",
    "            #video_df.at[frame_i, df_pred_col_i] = max_prob\n",
    "    video_df['video'] = video_name\n",
    "    video_df['frame'] = np.arange(n_frames)\n",
    "    return(video_df)"
   ]
  },
  {
   "cell_type": "code",
   "execution_count": null,
   "id": "670a1704-9cbb-4ac4-a829-becfd1633d4d",
   "metadata": {},
   "outputs": [],
   "source": [
    "video_dfs = []\n",
    "for video_i, video_pkl in enumerate(scored_videos):\n",
    "    print(f\"{video_i}: {video_pkl.stem}\")\n",
    "    output_file = dir_output / (video_pkl.stem + \".parquet\")\n",
    "    print(output_file)\n",
    "    if not output_file.exists():\n",
    "        video_df = analyze_video_pkl(video_pkl)\n",
    "        video_df.to_parquet(output_file)\n",
    "    else:\n",
    "        video_df = pd.read_parquet(output_file)\n",
    "    video_dfs.append(video_df)\n",
    "        \n",
    "# Combine all predictions into a single dataframe.\n",
    "pred_df = pd.concat(video_dfs)\n",
    "\n",
    "pred_df.to_parquet(dir_proj / \"data/unlabeled-video-frames.parquet\")"
   ]
  },
  {
   "cell_type": "code",
   "execution_count": 100,
   "id": "72e67209-5f86-41f9-a3bd-00b8951dae78",
   "metadata": {},
   "outputs": [
    {
     "data": {
      "text/plain": [
       "(10276485, 11)"
      ]
     },
     "execution_count": 100,
     "metadata": {},
     "output_type": "execute_result"
    }
   ],
   "source": [
    "# 10.2 million frames\n",
    "pred_df.shape"
   ]
  },
  {
   "cell_type": "code",
   "execution_count": null,
   "id": "fb285c33-16ab-43bb-9c3e-5f9ad03f7678",
   "metadata": {},
   "outputs": [],
   "source": [
    "pred_df.shape"
   ]
  }
 ],
 "metadata": {
  "kernelspec": {
   "display_name": "Python [conda env:vape]",
   "language": "python",
   "name": "conda-env-vape-py"
  },
  "language_info": {
   "codemirror_mode": {
    "name": "ipython",
    "version": 3
   },
   "file_extension": ".py",
   "mimetype": "text/x-python",
   "name": "python",
   "nbconvert_exporter": "python",
   "pygments_lexer": "ipython3",
   "version": "3.8.12"
  }
 },
 "nbformat": 4,
 "nbformat_minor": 5
}
